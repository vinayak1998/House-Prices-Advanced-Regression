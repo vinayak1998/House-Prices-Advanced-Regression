{
  "cells": [
    {
      "metadata": {
        "_cell_guid": "e81ee64d-e474-4662-9036-ce23df615199",
        "_uuid": "b6269c0e8f417f82daf093dda8fa0da6d2c57d86"
      },
      "cell_type": "markdown",
      "source": "# Introduction\n**This will be your workspace for Kaggle's Machine Learning education track.**\n\nYou will build and continually improve a model to predict housing prices as you work through each tutorial.  Fork this notebook and write your code in it.\n\nThe data from the tutorial, the Melbourne data, is not available in this workspace.  You will need to translate the concepts to work with the data in this notebook, the Iowa data.\n\nCome to the [Learn Discussion](https://www.kaggle.com/learn-forum) forum for any questions or comments. \n\n# Write Your Code Below\n\n"
    },
    {
      "metadata": {
        "_cell_guid": "86b26423-563a-4fa1-a595-89e25ff93089",
        "_uuid": "1c728098629e1301643443b1341556a15c089b2b",
        "trusted": true
      },
      "cell_type": "code",
      "source": "import pandas as pd\n\nmain_file_path = '../input/train.csv'\ndata = pd.read_csv(main_file_path)\nprint('hello world')\n\nprint(data.describe())",
      "execution_count": 1,
      "outputs": [
        {
          "name": "stdout",
          "output_type": "stream",
          "text": "hello world\n                Id   MSSubClass  LotFrontage        LotArea  OverallQual  \\\ncount  1460.000000  1460.000000  1201.000000    1460.000000  1460.000000   \nmean    730.500000    56.897260    70.049958   10516.828082     6.099315   \nstd     421.610009    42.300571    24.284752    9981.264932     1.382997   \nmin       1.000000    20.000000    21.000000    1300.000000     1.000000   \n25%     365.750000    20.000000    59.000000    7553.500000     5.000000   \n50%     730.500000    50.000000    69.000000    9478.500000     6.000000   \n75%    1095.250000    70.000000    80.000000   11601.500000     7.000000   \nmax    1460.000000   190.000000   313.000000  215245.000000    10.000000   \n\n       OverallCond    YearBuilt  YearRemodAdd   MasVnrArea   BsmtFinSF1  \\\ncount  1460.000000  1460.000000   1460.000000  1452.000000  1460.000000   \nmean      5.575342  1971.267808   1984.865753   103.685262   443.639726   \nstd       1.112799    30.202904     20.645407   181.066207   456.098091   \nmin       1.000000  1872.000000   1950.000000     0.000000     0.000000   \n25%       5.000000  1954.000000   1967.000000     0.000000     0.000000   \n50%       5.000000  1973.000000   1994.000000     0.000000   383.500000   \n75%       6.000000  2000.000000   2004.000000   166.000000   712.250000   \nmax       9.000000  2010.000000   2010.000000  1600.000000  5644.000000   \n\n           ...         WoodDeckSF  OpenPorchSF  EnclosedPorch    3SsnPorch  \\\ncount      ...        1460.000000  1460.000000    1460.000000  1460.000000   \nmean       ...          94.244521    46.660274      21.954110     3.409589   \nstd        ...         125.338794    66.256028      61.119149    29.317331   \nmin        ...           0.000000     0.000000       0.000000     0.000000   \n25%        ...           0.000000     0.000000       0.000000     0.000000   \n50%        ...           0.000000    25.000000       0.000000     0.000000   \n75%        ...         168.000000    68.000000       0.000000     0.000000   \nmax        ...         857.000000   547.000000     552.000000   508.000000   \n\n       ScreenPorch     PoolArea       MiscVal       MoSold       YrSold  \\\ncount  1460.000000  1460.000000   1460.000000  1460.000000  1460.000000   \nmean     15.060959     2.758904     43.489041     6.321918  2007.815753   \nstd      55.757415    40.177307    496.123024     2.703626     1.328095   \nmin       0.000000     0.000000      0.000000     1.000000  2006.000000   \n25%       0.000000     0.000000      0.000000     5.000000  2007.000000   \n50%       0.000000     0.000000      0.000000     6.000000  2008.000000   \n75%       0.000000     0.000000      0.000000     8.000000  2009.000000   \nmax     480.000000   738.000000  15500.000000    12.000000  2010.000000   \n\n           SalePrice  \ncount    1460.000000  \nmean   180921.195890  \nstd     79442.502883  \nmin     34900.000000  \n25%    129975.000000  \n50%    163000.000000  \n75%    214000.000000  \nmax    755000.000000  \n\n[8 rows x 38 columns]\n"
        }
      ]
    },
    {
      "metadata": {
        "_cell_guid": "31191031-ab1c-434a-9646-13f0bb8822ce",
        "_uuid": "5977c9b04ab085d83431d72d9efab5b3ef6c311e",
        "trusted": true
      },
      "cell_type": "code",
      "source": "print(data.columns)",
      "execution_count": 2,
      "outputs": [
        {
          "name": "stdout",
          "output_type": "stream",
          "text": "Index(['Id', 'MSSubClass', 'MSZoning', 'LotFrontage', 'LotArea', 'Street',\n       'Alley', 'LotShape', 'LandContour', 'Utilities', 'LotConfig',\n       'LandSlope', 'Neighborhood', 'Condition1', 'Condition2', 'BldgType',\n       'HouseStyle', 'OverallQual', 'OverallCond', 'YearBuilt', 'YearRemodAdd',\n       'RoofStyle', 'RoofMatl', 'Exterior1st', 'Exterior2nd', 'MasVnrType',\n       'MasVnrArea', 'ExterQual', 'ExterCond', 'Foundation', 'BsmtQual',\n       'BsmtCond', 'BsmtExposure', 'BsmtFinType1', 'BsmtFinSF1',\n       'BsmtFinType2', 'BsmtFinSF2', 'BsmtUnfSF', 'TotalBsmtSF', 'Heating',\n       'HeatingQC', 'CentralAir', 'Electrical', '1stFlrSF', '2ndFlrSF',\n       'LowQualFinSF', 'GrLivArea', 'BsmtFullBath', 'BsmtHalfBath', 'FullBath',\n       'HalfBath', 'BedroomAbvGr', 'KitchenAbvGr', 'KitchenQual',\n       'TotRmsAbvGrd', 'Functional', 'Fireplaces', 'FireplaceQu', 'GarageType',\n       'GarageYrBlt', 'GarageFinish', 'GarageCars', 'GarageArea', 'GarageQual',\n       'GarageCond', 'PavedDrive', 'WoodDeckSF', 'OpenPorchSF',\n       'EnclosedPorch', '3SsnPorch', 'ScreenPorch', 'PoolArea', 'PoolQC',\n       'Fence', 'MiscFeature', 'MiscVal', 'MoSold', 'YrSold', 'SaleType',\n       'SaleCondition', 'SalePrice'],\n      dtype='object')\n"
        }
      ]
    },
    {
      "metadata": {
        "_cell_guid": "8cb65e7d-c580-4c61-bc28-6e3cc89bd8a8",
        "_uuid": "cc6c9b4e7bec7ee97d12ee5f8e046658b7025d11",
        "scrolled": true,
        "trusted": true
      },
      "cell_type": "code",
      "source": "print(data.head())",
      "execution_count": 3,
      "outputs": [
        {
          "name": "stdout",
          "output_type": "stream",
          "text": "   Id  MSSubClass MSZoning  LotFrontage  LotArea Street Alley LotShape  \\\n0   1          60       RL         65.0     8450   Pave   NaN      Reg   \n1   2          20       RL         80.0     9600   Pave   NaN      Reg   \n2   3          60       RL         68.0    11250   Pave   NaN      IR1   \n3   4          70       RL         60.0     9550   Pave   NaN      IR1   \n4   5          60       RL         84.0    14260   Pave   NaN      IR1   \n\n  LandContour Utilities    ...     PoolArea PoolQC Fence MiscFeature MiscVal  \\\n0         Lvl    AllPub    ...            0    NaN   NaN         NaN       0   \n1         Lvl    AllPub    ...            0    NaN   NaN         NaN       0   \n2         Lvl    AllPub    ...            0    NaN   NaN         NaN       0   \n3         Lvl    AllPub    ...            0    NaN   NaN         NaN       0   \n4         Lvl    AllPub    ...            0    NaN   NaN         NaN       0   \n\n  MoSold YrSold  SaleType  SaleCondition  SalePrice  \n0      2   2008        WD         Normal     208500  \n1      5   2007        WD         Normal     181500  \n2      9   2008        WD         Normal     223500  \n3      2   2006        WD        Abnorml     140000  \n4     12   2008        WD         Normal     250000  \n\n[5 rows x 81 columns]\n"
        }
      ]
    },
    {
      "metadata": {
        "_cell_guid": "ee726489-117e-4f13-8bf6-74d79f1217f2",
        "_uuid": "e087cd1ce7f4fe86b29e6577271e19cccc04586f",
        "scrolled": true,
        "trusted": true
      },
      "cell_type": "code",
      "source": "spike_cols = [col for col in data.columns if 'Price' in col]\nprint(spike_cols)",
      "execution_count": 4,
      "outputs": [
        {
          "name": "stdout",
          "output_type": "stream",
          "text": "['SalePrice']\n"
        }
      ]
    },
    {
      "metadata": {
        "_cell_guid": "89e0a5f8-c003-4495-97ac-45b343d59294",
        "_uuid": "921d1fe5ec9141c69390a0fae7bd74cf0a132759",
        "trusted": true
      },
      "cell_type": "code",
      "source": "price_data = data.SalePrice\nprint(price_data.head())",
      "execution_count": 5,
      "outputs": [
        {
          "name": "stdout",
          "output_type": "stream",
          "text": "0    208500\n1    181500\n2    223500\n3    140000\n4    250000\nName: SalePrice, dtype: int64\n"
        }
      ]
    },
    {
      "metadata": {
        "_cell_guid": "fe40d062-6c73-45f0-9031-2f57b3b00a44",
        "_uuid": "f1931b28c4662caed35a01582bee0e53a265be11",
        "trusted": true
      },
      "cell_type": "code",
      "source": "landsize_cols = [col for col in data.columns if 'BedroomAbvGr' in col]\nprint(landsize_cols)",
      "execution_count": 6,
      "outputs": [
        {
          "name": "stdout",
          "output_type": "stream",
          "text": "['BedroomAbvGr']\n"
        }
      ]
    },
    {
      "metadata": {
        "_cell_guid": "c41d098e-9b48-4207-a2fd-39e5282750ec",
        "_uuid": "56c7ba135e43c8d13df149caba474352fd78ef08",
        "trusted": true
      },
      "cell_type": "code",
      "source": "columns_of_interest = ['YearBuilt', 'LotArea','1stFlrSF', '2ndFlrSF', 'FullBath', 'BedroomAbvGr', 'TotRmsAbvGrd']\ncolumns_of_data = data[columns_of_interest]\ncolumns_of_data.describe()",
      "execution_count": 7,
      "outputs": [
        {
          "data": {
            "text/html": "<div>\n<style scoped>\n    .dataframe tbody tr th:only-of-type {\n        vertical-align: middle;\n    }\n\n    .dataframe tbody tr th {\n        vertical-align: top;\n    }\n\n    .dataframe thead th {\n        text-align: right;\n    }\n</style>\n<table border=\"1\" class=\"dataframe\">\n  <thead>\n    <tr style=\"text-align: right;\">\n      <th></th>\n      <th>YearBuilt</th>\n      <th>LotArea</th>\n      <th>1stFlrSF</th>\n      <th>2ndFlrSF</th>\n      <th>FullBath</th>\n      <th>BedroomAbvGr</th>\n      <th>TotRmsAbvGrd</th>\n    </tr>\n  </thead>\n  <tbody>\n    <tr>\n      <th>count</th>\n      <td>1460.000000</td>\n      <td>1460.000000</td>\n      <td>1460.000000</td>\n      <td>1460.000000</td>\n      <td>1460.000000</td>\n      <td>1460.000000</td>\n      <td>1460.000000</td>\n    </tr>\n    <tr>\n      <th>mean</th>\n      <td>1971.267808</td>\n      <td>10516.828082</td>\n      <td>1162.626712</td>\n      <td>346.992466</td>\n      <td>1.565068</td>\n      <td>2.866438</td>\n      <td>6.517808</td>\n    </tr>\n    <tr>\n      <th>std</th>\n      <td>30.202904</td>\n      <td>9981.264932</td>\n      <td>386.587738</td>\n      <td>436.528436</td>\n      <td>0.550916</td>\n      <td>0.815778</td>\n      <td>1.625393</td>\n    </tr>\n    <tr>\n      <th>min</th>\n      <td>1872.000000</td>\n      <td>1300.000000</td>\n      <td>334.000000</td>\n      <td>0.000000</td>\n      <td>0.000000</td>\n      <td>0.000000</td>\n      <td>2.000000</td>\n    </tr>\n    <tr>\n      <th>25%</th>\n      <td>1954.000000</td>\n      <td>7553.500000</td>\n      <td>882.000000</td>\n      <td>0.000000</td>\n      <td>1.000000</td>\n      <td>2.000000</td>\n      <td>5.000000</td>\n    </tr>\n    <tr>\n      <th>50%</th>\n      <td>1973.000000</td>\n      <td>9478.500000</td>\n      <td>1087.000000</td>\n      <td>0.000000</td>\n      <td>2.000000</td>\n      <td>3.000000</td>\n      <td>6.000000</td>\n    </tr>\n    <tr>\n      <th>75%</th>\n      <td>2000.000000</td>\n      <td>11601.500000</td>\n      <td>1391.250000</td>\n      <td>728.000000</td>\n      <td>2.000000</td>\n      <td>3.000000</td>\n      <td>7.000000</td>\n    </tr>\n    <tr>\n      <th>max</th>\n      <td>2010.000000</td>\n      <td>215245.000000</td>\n      <td>4692.000000</td>\n      <td>2065.000000</td>\n      <td>3.000000</td>\n      <td>8.000000</td>\n      <td>14.000000</td>\n    </tr>\n  </tbody>\n</table>\n</div>",
            "text/plain": "         YearBuilt        LotArea     1stFlrSF     2ndFlrSF     FullBath  \\\ncount  1460.000000    1460.000000  1460.000000  1460.000000  1460.000000   \nmean   1971.267808   10516.828082  1162.626712   346.992466     1.565068   \nstd      30.202904    9981.264932   386.587738   436.528436     0.550916   \nmin    1872.000000    1300.000000   334.000000     0.000000     0.000000   \n25%    1954.000000    7553.500000   882.000000     0.000000     1.000000   \n50%    1973.000000    9478.500000  1087.000000     0.000000     2.000000   \n75%    2000.000000   11601.500000  1391.250000   728.000000     2.000000   \nmax    2010.000000  215245.000000  4692.000000  2065.000000     3.000000   \n\n       BedroomAbvGr  TotRmsAbvGrd  \ncount   1460.000000   1460.000000  \nmean       2.866438      6.517808  \nstd        0.815778      1.625393  \nmin        0.000000      2.000000  \n25%        2.000000      5.000000  \n50%        3.000000      6.000000  \n75%        3.000000      7.000000  \nmax        8.000000     14.000000  "
          },
          "execution_count": 7,
          "metadata": {},
          "output_type": "execute_result"
        }
      ]
    },
    {
      "metadata": {
        "_cell_guid": "6c3fe142-93c2-41d4-b64c-9639a0bf412a",
        "_uuid": "6e264435753fc2987da5f9f9724e44b72604bc90",
        "trusted": true
      },
      "cell_type": "code",
      "source": "y = data.SalePrice\nX = data[columns_of_interest]\n\nfrom sklearn.tree import DecisionTreeRegressor\n\niowa_model = DecisionTreeRegressor()\n\niowa_model.fit(X,y)\n\nprint(\"Making predictions for the following 5 houses:\")\nprint(X.head())\n\nprint(\"The predictions are\")\nprint(iowa_model.predict(X.head()))",
      "execution_count": 8,
      "outputs": [
        {
          "name": "stdout",
          "output_type": "stream",
          "text": "Making predictions for the following 5 houses:\n   YearBuilt  LotArea  1stFlrSF  2ndFlrSF  FullBath  BedroomAbvGr  \\\n0       2003     8450       856       854         2             3   \n1       1976     9600      1262         0         2             3   \n2       2001    11250       920       866         2             3   \n3       1915     9550       961       756         1             3   \n4       2000    14260      1145      1053         2             4   \n\n   TotRmsAbvGrd  \n0             8  \n1             6  \n2             6  \n3             7  \n4             9  \nThe predictions are\n[208500. 181500. 223500. 140000. 250000.]\n"
        }
      ]
    },
    {
      "metadata": {
        "_cell_guid": "dccd3e35-885e-4254-927c-34bf6ca61189",
        "_uuid": "c0b3d5f4981d9139d9c2af794b34e940a33dcf0b",
        "trusted": true
      },
      "cell_type": "code",
      "source": "from sklearn.metrics import mean_absolute_error\n\npredicted_home_prices = iowa_model.predict(X)\n#print(predicted_home_prices)\n\nmean_absolute_error(y, predicted_home_prices)",
      "execution_count": 10,
      "outputs": [
        {
          "data": {
            "text/plain": "62.35433789954339"
          },
          "execution_count": 10,
          "metadata": {},
          "output_type": "execute_result"
        }
      ]
    },
    {
      "metadata": {
        "_cell_guid": "88eae3d9-04a3-48b2-a9b4-3a746d1274df",
        "_uuid": "0cd86fcbd73cc990de4da6ee89c1770162e18e28",
        "trusted": true
      },
      "cell_type": "code",
      "source": "from sklearn.model_selection import train_test_split\n\ntrain_X, val_X, train_y, val_y = train_test_split(X, y,random_state = 0)\n\niowa_model = DecisionTreeRegressor()\n\niowa_model.fit(train_X, train_y)\n\nval_predictions = iowa_model.predict(val_X)\n\nprint(mean_absolute_error(val_y, val_predictions))",
      "execution_count": 11,
      "outputs": [
        {
          "name": "stdout",
          "output_type": "stream",
          "text": "32901.35068493151\n"
        }
      ]
    },
    {
      "metadata": {
        "trusted": true,
        "_uuid": "3c759fee516c9546145420086211b405826449a5"
      },
      "cell_type": "code",
      "source": "from sklearn.metrics import mean_absolute_error\nfrom sklearn.tree import DecisionTreeRegressor\n\ndef get_mae(max_leaf_nodes, predictors_train, predictors_val, targ_train, targ_val):\n    model = DecisionTreeRegressor(max_leaf_nodes=max_leaf_nodes, random_state=0)\n    model.fit(predictors_train, targ_train)\n    preds_val = model.predict(predictors_val)\n    mae = mean_absolute_error(targ_val, preds_val)\n    return(mae)\n\nmin = 100000000\nmaln = 100000000\n\nfor max_leaf_nodes in range(2,1000,1):\n    my_mae = get_mae(max_leaf_nodes, train_X, val_X, train_y, val_y)\n    #print(\"Max leaf nodes: %d  \\t\\t Mean Absolute Error:  %d\" %(max_leaf_nodes, my_mae))\n    if (min > my_mae):\n        min = my_mae\n        maln = max_leaf_nodes\n\nprint(\"Ideal case: \" + \" Leaf nodes= \" + str(maln) + \" Mae= \" + str(min))\n    ",
      "execution_count": 20,
      "outputs": [
        {
          "name": "stdout",
          "output_type": "stream",
          "text": "Ideal case:  Leaf nodes= 82 Mae= 27203.783573767258\n"
        }
      ]
    },
    {
      "metadata": {
        "trusted": true,
        "_uuid": "9047d4f83c36f9e7f8026262d39ccdf1dd0f328e"
      },
      "cell_type": "code",
      "source": "from sklearn.ensemble import RandomForestRegressor\nfrom sklearn.metrics import mean_absolute_error\n\nforest_model = RandomForestRegressor()\nforest_model.fit(train_X, train_y)\niowa_preds = forest_model.predict(val_X)\nprint(mean_absolute_error(val_y, iowa_preds))\n\n",
      "execution_count": 23,
      "outputs": [
        {
          "name": "stdout",
          "output_type": "stream",
          "text": "24717.250502283106\n"
        }
      ]
    },
    {
      "metadata": {
        "trusted": true,
        "_uuid": "7e61837a465fd8d326bcccfebe277aab60d9e94f"
      },
      "cell_type": "code",
      "source": "test =  [col for col in data.columns if 'Id' in col]",
      "execution_count": 26,
      "outputs": [
        {
          "data": {
            "text/plain": "['Id']"
          },
          "execution_count": 26,
          "metadata": {},
          "output_type": "execute_result"
        }
      ]
    },
    {
      "metadata": {
        "trusted": true,
        "_uuid": "ae234b67022d593f655836f33f16e0c3d9fba8ba"
      },
      "cell_type": "code",
      "source": "len(iowa_preds)",
      "execution_count": 33,
      "outputs": [
        {
          "data": {
            "text/plain": "365"
          },
          "execution_count": 33,
          "metadata": {},
          "output_type": "execute_result"
        }
      ]
    },
    {
      "metadata": {
        "trusted": true,
        "_uuid": "d744e34859cf6459d807b4501f59a678432f746f"
      },
      "cell_type": "code",
      "source": "import numpy as np\nimport pandas as pd\nfrom sklearn.ensemble import RandomForestRegressor\n\ntrain = pd.read_csv('../input/train.csv')\n\ntrain_y = train.SalePrice\npredictor_cols = ['LotArea', 'OverallQual', 'YearBuilt', 'TotRmsAbvGrd']\n\ntrain_X = train[predictor_cols]\n\nmy_model = RandomForestRegressor()\nmy_model.fit(train_X, train_y)\n\n",
      "execution_count": 44,
      "outputs": [
        {
          "data": {
            "text/plain": "RandomForestRegressor(bootstrap=True, criterion='mse', max_depth=None,\n           max_features='auto', max_leaf_nodes=None,\n           min_impurity_decrease=0.0, min_impurity_split=None,\n           min_samples_leaf=1, min_samples_split=2,\n           min_weight_fraction_leaf=0.0, n_estimators=10, n_jobs=1,\n           oob_score=False, random_state=None, verbose=0, warm_start=False)"
          },
          "execution_count": 44,
          "metadata": {},
          "output_type": "execute_result"
        }
      ]
    },
    {
      "metadata": {
        "trusted": true,
        "_uuid": "0e4ba381f9253d28f70023900722caef128dc43f"
      },
      "cell_type": "code",
      "source": "test = pd.read_csv('../input/test.csv')\ntest_X = test[predictor_cols]\n\npredicted_prices = my_model.predict(test_X)\nprint(predicted_prices)\n",
      "execution_count": 69,
      "outputs": [
        {
          "name": "stdout",
          "output_type": "stream",
          "text": "[137060. 192600. 163550. ... 149654. 158170. 235950.]\n"
        }
      ]
    },
    {
      "metadata": {
        "trusted": true,
        "_uuid": "38a9cd286bb1582b039bc03bc0c70e1f1df218ba"
      },
      "cell_type": "code",
      "source": "my_submission = pd.DataFrame({'Id': test.Id, 'SalePrice': predicted_prices})\nmy_submission.to_csv('submission.csv', index=False)\n\nmy_submission",
      "execution_count": 70,
      "outputs": [
        {
          "data": {
            "text/html": "<div>\n<style scoped>\n    .dataframe tbody tr th:only-of-type {\n        vertical-align: middle;\n    }\n\n    .dataframe tbody tr th {\n        vertical-align: top;\n    }\n\n    .dataframe thead th {\n        text-align: right;\n    }\n</style>\n<table border=\"1\" class=\"dataframe\">\n  <thead>\n    <tr style=\"text-align: right;\">\n      <th></th>\n      <th>Id</th>\n      <th>SalePrice</th>\n    </tr>\n  </thead>\n  <tbody>\n    <tr>\n      <th>0</th>\n      <td>1461</td>\n      <td>137060.0</td>\n    </tr>\n    <tr>\n      <th>1</th>\n      <td>1462</td>\n      <td>192600.0</td>\n    </tr>\n    <tr>\n      <th>2</th>\n      <td>1463</td>\n      <td>163550.0</td>\n    </tr>\n    <tr>\n      <th>3</th>\n      <td>1464</td>\n      <td>192925.0</td>\n    </tr>\n    <tr>\n      <th>4</th>\n      <td>1465</td>\n      <td>201250.0</td>\n    </tr>\n    <tr>\n      <th>5</th>\n      <td>1466</td>\n      <td>189925.0</td>\n    </tr>\n    <tr>\n      <th>6</th>\n      <td>1467</td>\n      <td>173790.0</td>\n    </tr>\n    <tr>\n      <th>7</th>\n      <td>1468</td>\n      <td>189650.0</td>\n    </tr>\n    <tr>\n      <th>8</th>\n      <td>1469</td>\n      <td>184800.0</td>\n    </tr>\n    <tr>\n      <th>9</th>\n      <td>1470</td>\n      <td>123400.0</td>\n    </tr>\n    <tr>\n      <th>10</th>\n      <td>1471</td>\n      <td>221367.9</td>\n    </tr>\n    <tr>\n      <th>11</th>\n      <td>1472</td>\n      <td>89140.0</td>\n    </tr>\n    <tr>\n      <th>12</th>\n      <td>1473</td>\n      <td>109800.0</td>\n    </tr>\n    <tr>\n      <th>13</th>\n      <td>1474</td>\n      <td>144050.0</td>\n    </tr>\n    <tr>\n      <th>14</th>\n      <td>1475</td>\n      <td>151340.0</td>\n    </tr>\n    <tr>\n      <th>15</th>\n      <td>1476</td>\n      <td>438174.9</td>\n    </tr>\n    <tr>\n      <th>16</th>\n      <td>1477</td>\n      <td>268026.8</td>\n    </tr>\n    <tr>\n      <th>17</th>\n      <td>1478</td>\n      <td>300500.0</td>\n    </tr>\n    <tr>\n      <th>18</th>\n      <td>1479</td>\n      <td>299204.5</td>\n    </tr>\n    <tr>\n      <th>19</th>\n      <td>1480</td>\n      <td>418889.9</td>\n    </tr>\n    <tr>\n      <th>20</th>\n      <td>1481</td>\n      <td>261330.0</td>\n    </tr>\n    <tr>\n      <th>21</th>\n      <td>1482</td>\n      <td>219800.0</td>\n    </tr>\n    <tr>\n      <th>22</th>\n      <td>1483</td>\n      <td>188000.0</td>\n    </tr>\n    <tr>\n      <th>23</th>\n      <td>1484</td>\n      <td>181717.1</td>\n    </tr>\n    <tr>\n      <th>24</th>\n      <td>1485</td>\n      <td>224427.2</td>\n    </tr>\n    <tr>\n      <th>25</th>\n      <td>1486</td>\n      <td>192440.0</td>\n    </tr>\n    <tr>\n      <th>26</th>\n      <td>1487</td>\n      <td>289273.0</td>\n    </tr>\n    <tr>\n      <th>27</th>\n      <td>1488</td>\n      <td>223360.0</td>\n    </tr>\n    <tr>\n      <th>28</th>\n      <td>1489</td>\n      <td>203558.2</td>\n    </tr>\n    <tr>\n      <th>29</th>\n      <td>1490</td>\n      <td>177885.0</td>\n    </tr>\n    <tr>\n      <th>...</th>\n      <td>...</td>\n      <td>...</td>\n    </tr>\n    <tr>\n      <th>1429</th>\n      <td>2890</td>\n      <td>73080.0</td>\n    </tr>\n    <tr>\n      <th>1430</th>\n      <td>2891</td>\n      <td>155390.0</td>\n    </tr>\n    <tr>\n      <th>1431</th>\n      <td>2892</td>\n      <td>71123.3</td>\n    </tr>\n    <tr>\n      <th>1432</th>\n      <td>2893</td>\n      <td>136350.0</td>\n    </tr>\n    <tr>\n      <th>1433</th>\n      <td>2894</td>\n      <td>66990.0</td>\n    </tr>\n    <tr>\n      <th>1434</th>\n      <td>2895</td>\n      <td>285450.0</td>\n    </tr>\n    <tr>\n      <th>1435</th>\n      <td>2896</td>\n      <td>242800.0</td>\n    </tr>\n    <tr>\n      <th>1436</th>\n      <td>2897</td>\n      <td>206300.0</td>\n    </tr>\n    <tr>\n      <th>1437</th>\n      <td>2898</td>\n      <td>183680.0</td>\n    </tr>\n    <tr>\n      <th>1438</th>\n      <td>2899</td>\n      <td>249850.0</td>\n    </tr>\n    <tr>\n      <th>1439</th>\n      <td>2900</td>\n      <td>168410.0</td>\n    </tr>\n    <tr>\n      <th>1440</th>\n      <td>2901</td>\n      <td>205324.8</td>\n    </tr>\n    <tr>\n      <th>1441</th>\n      <td>2902</td>\n      <td>183050.0</td>\n    </tr>\n    <tr>\n      <th>1442</th>\n      <td>2903</td>\n      <td>295842.6</td>\n    </tr>\n    <tr>\n      <th>1443</th>\n      <td>2904</td>\n      <td>329723.9</td>\n    </tr>\n    <tr>\n      <th>1444</th>\n      <td>2905</td>\n      <td>139256.1</td>\n    </tr>\n    <tr>\n      <th>1445</th>\n      <td>2906</td>\n      <td>212190.0</td>\n    </tr>\n    <tr>\n      <th>1446</th>\n      <td>2907</td>\n      <td>126040.0</td>\n    </tr>\n    <tr>\n      <th>1447</th>\n      <td>2908</td>\n      <td>139450.0</td>\n    </tr>\n    <tr>\n      <th>1448</th>\n      <td>2909</td>\n      <td>162440.5</td>\n    </tr>\n    <tr>\n      <th>1449</th>\n      <td>2910</td>\n      <td>80900.0</td>\n    </tr>\n    <tr>\n      <th>1450</th>\n      <td>2911</td>\n      <td>87500.0</td>\n    </tr>\n    <tr>\n      <th>1451</th>\n      <td>2912</td>\n      <td>164125.0</td>\n    </tr>\n    <tr>\n      <th>1452</th>\n      <td>2913</td>\n      <td>92200.0</td>\n    </tr>\n    <tr>\n      <th>1453</th>\n      <td>2914</td>\n      <td>92200.0</td>\n    </tr>\n    <tr>\n      <th>1454</th>\n      <td>2915</td>\n      <td>85900.0</td>\n    </tr>\n    <tr>\n      <th>1455</th>\n      <td>2916</td>\n      <td>84450.0</td>\n    </tr>\n    <tr>\n      <th>1456</th>\n      <td>2917</td>\n      <td>149654.0</td>\n    </tr>\n    <tr>\n      <th>1457</th>\n      <td>2918</td>\n      <td>158170.0</td>\n    </tr>\n    <tr>\n      <th>1458</th>\n      <td>2919</td>\n      <td>235950.0</td>\n    </tr>\n  </tbody>\n</table>\n<p>1459 rows × 2 columns</p>\n</div>",
            "text/plain": "        Id  SalePrice\n0     1461   137060.0\n1     1462   192600.0\n2     1463   163550.0\n3     1464   192925.0\n4     1465   201250.0\n5     1466   189925.0\n6     1467   173790.0\n7     1468   189650.0\n8     1469   184800.0\n9     1470   123400.0\n10    1471   221367.9\n11    1472    89140.0\n12    1473   109800.0\n13    1474   144050.0\n14    1475   151340.0\n15    1476   438174.9\n16    1477   268026.8\n17    1478   300500.0\n18    1479   299204.5\n19    1480   418889.9\n20    1481   261330.0\n21    1482   219800.0\n22    1483   188000.0\n23    1484   181717.1\n24    1485   224427.2\n25    1486   192440.0\n26    1487   289273.0\n27    1488   223360.0\n28    1489   203558.2\n29    1490   177885.0\n...    ...        ...\n1429  2890    73080.0\n1430  2891   155390.0\n1431  2892    71123.3\n1432  2893   136350.0\n1433  2894    66990.0\n1434  2895   285450.0\n1435  2896   242800.0\n1436  2897   206300.0\n1437  2898   183680.0\n1438  2899   249850.0\n1439  2900   168410.0\n1440  2901   205324.8\n1441  2902   183050.0\n1442  2903   295842.6\n1443  2904   329723.9\n1444  2905   139256.1\n1445  2906   212190.0\n1446  2907   126040.0\n1447  2908   139450.0\n1448  2909   162440.5\n1449  2910    80900.0\n1450  2911    87500.0\n1451  2912   164125.0\n1452  2913    92200.0\n1453  2914    92200.0\n1454  2915    85900.0\n1455  2916    84450.0\n1456  2917   149654.0\n1457  2918   158170.0\n1458  2919   235950.0\n\n[1459 rows x 2 columns]"
          },
          "execution_count": 70,
          "metadata": {},
          "output_type": "execute_result"
        }
      ]
    }
  ],
  "metadata": {
    "kernelspec": {
      "display_name": "Python 3",
      "language": "python",
      "name": "python3"
    },
    "language_info": {
      "codemirror_mode": {
        "name": "ipython",
        "version": 3
      },
      "file_extension": ".py",
      "mimetype": "text/x-python",
      "name": "python",
      "nbconvert_exporter": "python",
      "pygments_lexer": "ipython3",
      "version": "3.6.4"
    }
  },
  "nbformat": 4,
  "nbformat_minor": 1
}