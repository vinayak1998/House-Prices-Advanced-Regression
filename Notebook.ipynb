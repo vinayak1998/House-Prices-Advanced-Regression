{
  "cells": [
    {
      "metadata": {
        "_cell_guid": "e81ee64d-e474-4662-9036-ce23df615199",
        "_uuid": "b6269c0e8f417f82daf093dda8fa0da6d2c57d86"
      },
      "cell_type": "markdown",
      "source": "# Introduction\n**This will be your workspace for Kaggle's Machine Learning education track.**\n\nYou will build and continually improve a model to predict housing prices as you work through each tutorial.  Fork this notebook and write your code in it.\n\nThe data from the tutorial, the Melbourne data, is not available in this workspace.  You will need to translate the concepts to work with the data in this notebook, the Iowa data.\n\nCome to the [Learn Discussion](https://www.kaggle.com/learn-forum) forum for any questions or comments. \n\n# Write Your Code Below\n\n"
    },
    {
      "metadata": {
        "_cell_guid": "86b26423-563a-4fa1-a595-89e25ff93089",
        "_uuid": "1c728098629e1301643443b1341556a15c089b2b",
        "trusted": true
      },
      "cell_type": "code",
      "source": "import pandas as pd\n\nmain_file_path = '../input/train.csv'\ndata = pd.read_csv(main_file_path)\nprint('hello world')\n\nprint(data.describe())",
      "execution_count": 3,
      "outputs": [
        {
          "output_type": "stream",
          "text": "hello world\n                Id   MSSubClass  LotFrontage        LotArea  OverallQual  \\\ncount  1460.000000  1460.000000  1201.000000    1460.000000  1460.000000   \nmean    730.500000    56.897260    70.049958   10516.828082     6.099315   \nstd     421.610009    42.300571    24.284752    9981.264932     1.382997   \nmin       1.000000    20.000000    21.000000    1300.000000     1.000000   \n25%     365.750000    20.000000    59.000000    7553.500000     5.000000   \n50%     730.500000    50.000000    69.000000    9478.500000     6.000000   \n75%    1095.250000    70.000000    80.000000   11601.500000     7.000000   \nmax    1460.000000   190.000000   313.000000  215245.000000    10.000000   \n\n       OverallCond    YearBuilt  YearRemodAdd   MasVnrArea   BsmtFinSF1  \\\ncount  1460.000000  1460.000000   1460.000000  1452.000000  1460.000000   \nmean      5.575342  1971.267808   1984.865753   103.685262   443.639726   \nstd       1.112799    30.202904     20.645407   181.066207   456.098091   \nmin       1.000000  1872.000000   1950.000000     0.000000     0.000000   \n25%       5.000000  1954.000000   1967.000000     0.000000     0.000000   \n50%       5.000000  1973.000000   1994.000000     0.000000   383.500000   \n75%       6.000000  2000.000000   2004.000000   166.000000   712.250000   \nmax       9.000000  2010.000000   2010.000000  1600.000000  5644.000000   \n\n           ...         WoodDeckSF  OpenPorchSF  EnclosedPorch    3SsnPorch  \\\ncount      ...        1460.000000  1460.000000    1460.000000  1460.000000   \nmean       ...          94.244521    46.660274      21.954110     3.409589   \nstd        ...         125.338794    66.256028      61.119149    29.317331   \nmin        ...           0.000000     0.000000       0.000000     0.000000   \n25%        ...           0.000000     0.000000       0.000000     0.000000   \n50%        ...           0.000000    25.000000       0.000000     0.000000   \n75%        ...         168.000000    68.000000       0.000000     0.000000   \nmax        ...         857.000000   547.000000     552.000000   508.000000   \n\n       ScreenPorch     PoolArea       MiscVal       MoSold       YrSold  \\\ncount  1460.000000  1460.000000   1460.000000  1460.000000  1460.000000   \nmean     15.060959     2.758904     43.489041     6.321918  2007.815753   \nstd      55.757415    40.177307    496.123024     2.703626     1.328095   \nmin       0.000000     0.000000      0.000000     1.000000  2006.000000   \n25%       0.000000     0.000000      0.000000     5.000000  2007.000000   \n50%       0.000000     0.000000      0.000000     6.000000  2008.000000   \n75%       0.000000     0.000000      0.000000     8.000000  2009.000000   \nmax     480.000000   738.000000  15500.000000    12.000000  2010.000000   \n\n           SalePrice  \ncount    1460.000000  \nmean   180921.195890  \nstd     79442.502883  \nmin     34900.000000  \n25%    129975.000000  \n50%    163000.000000  \n75%    214000.000000  \nmax    755000.000000  \n\n[8 rows x 38 columns]\n",
          "name": "stdout"
        }
      ]
    },
    {
      "metadata": {
        "_cell_guid": "31191031-ab1c-434a-9646-13f0bb8822ce",
        "_uuid": "5977c9b04ab085d83431d72d9efab5b3ef6c311e",
        "trusted": true
      },
      "cell_type": "code",
      "source": "print(data.columns)",
      "execution_count": 4,
      "outputs": [
        {
          "output_type": "stream",
          "text": "Index(['Id', 'MSSubClass', 'MSZoning', 'LotFrontage', 'LotArea', 'Street',\n       'Alley', 'LotShape', 'LandContour', 'Utilities', 'LotConfig',\n       'LandSlope', 'Neighborhood', 'Condition1', 'Condition2', 'BldgType',\n       'HouseStyle', 'OverallQual', 'OverallCond', 'YearBuilt', 'YearRemodAdd',\n       'RoofStyle', 'RoofMatl', 'Exterior1st', 'Exterior2nd', 'MasVnrType',\n       'MasVnrArea', 'ExterQual', 'ExterCond', 'Foundation', 'BsmtQual',\n       'BsmtCond', 'BsmtExposure', 'BsmtFinType1', 'BsmtFinSF1',\n       'BsmtFinType2', 'BsmtFinSF2', 'BsmtUnfSF', 'TotalBsmtSF', 'Heating',\n       'HeatingQC', 'CentralAir', 'Electrical', '1stFlrSF', '2ndFlrSF',\n       'LowQualFinSF', 'GrLivArea', 'BsmtFullBath', 'BsmtHalfBath', 'FullBath',\n       'HalfBath', 'BedroomAbvGr', 'KitchenAbvGr', 'KitchenQual',\n       'TotRmsAbvGrd', 'Functional', 'Fireplaces', 'FireplaceQu', 'GarageType',\n       'GarageYrBlt', 'GarageFinish', 'GarageCars', 'GarageArea', 'GarageQual',\n       'GarageCond', 'PavedDrive', 'WoodDeckSF', 'OpenPorchSF',\n       'EnclosedPorch', '3SsnPorch', 'ScreenPorch', 'PoolArea', 'PoolQC',\n       'Fence', 'MiscFeature', 'MiscVal', 'MoSold', 'YrSold', 'SaleType',\n       'SaleCondition', 'SalePrice'],\n      dtype='object')\n",
          "name": "stdout"
        }
      ]
    },
    {
      "metadata": {
        "scrolled": true,
        "_cell_guid": "8cb65e7d-c580-4c61-bc28-6e3cc89bd8a8",
        "_uuid": "cc6c9b4e7bec7ee97d12ee5f8e046658b7025d11",
        "trusted": true
      },
      "cell_type": "code",
      "source": "print(data.head())",
      "execution_count": 5,
      "outputs": [
        {
          "output_type": "stream",
          "text": "   Id  MSSubClass MSZoning  LotFrontage  LotArea Street Alley LotShape  \\\n0   1          60       RL         65.0     8450   Pave   NaN      Reg   \n1   2          20       RL         80.0     9600   Pave   NaN      Reg   \n2   3          60       RL         68.0    11250   Pave   NaN      IR1   \n3   4          70       RL         60.0     9550   Pave   NaN      IR1   \n4   5          60       RL         84.0    14260   Pave   NaN      IR1   \n\n  LandContour Utilities    ...     PoolArea PoolQC Fence MiscFeature MiscVal  \\\n0         Lvl    AllPub    ...            0    NaN   NaN         NaN       0   \n1         Lvl    AllPub    ...            0    NaN   NaN         NaN       0   \n2         Lvl    AllPub    ...            0    NaN   NaN         NaN       0   \n3         Lvl    AllPub    ...            0    NaN   NaN         NaN       0   \n4         Lvl    AllPub    ...            0    NaN   NaN         NaN       0   \n\n  MoSold YrSold  SaleType  SaleCondition  SalePrice  \n0      2   2008        WD         Normal     208500  \n1      5   2007        WD         Normal     181500  \n2      9   2008        WD         Normal     223500  \n3      2   2006        WD        Abnorml     140000  \n4     12   2008        WD         Normal     250000  \n\n[5 rows x 81 columns]\n",
          "name": "stdout"
        }
      ]
    },
    {
      "metadata": {
        "scrolled": true,
        "_cell_guid": "ee726489-117e-4f13-8bf6-74d79f1217f2",
        "_uuid": "e087cd1ce7f4fe86b29e6577271e19cccc04586f",
        "trusted": true
      },
      "cell_type": "code",
      "source": "spike_cols = [col for col in data.columns if 'Price' in col]\nprint(spike_cols)",
      "execution_count": 6,
      "outputs": [
        {
          "output_type": "stream",
          "text": "['SalePrice']\n",
          "name": "stdout"
        }
      ]
    },
    {
      "metadata": {
        "_cell_guid": "89e0a5f8-c003-4495-97ac-45b343d59294",
        "_uuid": "921d1fe5ec9141c69390a0fae7bd74cf0a132759",
        "trusted": true
      },
      "cell_type": "code",
      "source": "price_data = data.SalePrice\nprint(price_data.head())",
      "execution_count": 7,
      "outputs": [
        {
          "output_type": "stream",
          "text": "0    208500\n1    181500\n2    223500\n3    140000\n4    250000\nName: SalePrice, dtype: int64\n",
          "name": "stdout"
        }
      ]
    },
    {
      "metadata": {
        "_cell_guid": "fe40d062-6c73-45f0-9031-2f57b3b00a44",
        "_uuid": "f1931b28c4662caed35a01582bee0e53a265be11",
        "trusted": true
      },
      "cell_type": "code",
      "source": "landsize_cols = [col for col in data.columns if 'BedroomAbvGr' in col]\nprint(landsize_cols)",
      "execution_count": 8,
      "outputs": [
        {
          "output_type": "stream",
          "text": "['BedroomAbvGr']\n",
          "name": "stdout"
        }
      ]
    },
    {
      "metadata": {
        "_cell_guid": "c41d098e-9b48-4207-a2fd-39e5282750ec",
        "_uuid": "56c7ba135e43c8d13df149caba474352fd78ef08",
        "trusted": true
      },
      "cell_type": "code",
      "source": "columns_of_interest = ['YearBuilt', 'LotArea','1stFlrSF', '2ndFlrSF', 'FullBath', 'BedroomAbvGr', 'TotRmsAbvGrd']\ntwo_columns_of_data = data[columns_of_interest]\ntwo_columns_of_data.describe()",
      "execution_count": 9,
      "outputs": [
        {
          "output_type": "execute_result",
          "execution_count": 9,
          "data": {
            "text/plain": "         YearBuilt        LotArea     1stFlrSF     2ndFlrSF     FullBath  \\\ncount  1460.000000    1460.000000  1460.000000  1460.000000  1460.000000   \nmean   1971.267808   10516.828082  1162.626712   346.992466     1.565068   \nstd      30.202904    9981.264932   386.587738   436.528436     0.550916   \nmin    1872.000000    1300.000000   334.000000     0.000000     0.000000   \n25%    1954.000000    7553.500000   882.000000     0.000000     1.000000   \n50%    1973.000000    9478.500000  1087.000000     0.000000     2.000000   \n75%    2000.000000   11601.500000  1391.250000   728.000000     2.000000   \nmax    2010.000000  215245.000000  4692.000000  2065.000000     3.000000   \n\n       BedroomAbvGr  TotRmsAbvGrd  \ncount   1460.000000   1460.000000  \nmean       2.866438      6.517808  \nstd        0.815778      1.625393  \nmin        0.000000      2.000000  \n25%        2.000000      5.000000  \n50%        3.000000      6.000000  \n75%        3.000000      7.000000  \nmax        8.000000     14.000000  ",
            "text/html": "<div>\n<style scoped>\n    .dataframe tbody tr th:only-of-type {\n        vertical-align: middle;\n    }\n\n    .dataframe tbody tr th {\n        vertical-align: top;\n    }\n\n    .dataframe thead th {\n        text-align: right;\n    }\n</style>\n<table border=\"1\" class=\"dataframe\">\n  <thead>\n    <tr style=\"text-align: right;\">\n      <th></th>\n      <th>YearBuilt</th>\n      <th>LotArea</th>\n      <th>1stFlrSF</th>\n      <th>2ndFlrSF</th>\n      <th>FullBath</th>\n      <th>BedroomAbvGr</th>\n      <th>TotRmsAbvGrd</th>\n    </tr>\n  </thead>\n  <tbody>\n    <tr>\n      <th>count</th>\n      <td>1460.000000</td>\n      <td>1460.000000</td>\n      <td>1460.000000</td>\n      <td>1460.000000</td>\n      <td>1460.000000</td>\n      <td>1460.000000</td>\n      <td>1460.000000</td>\n    </tr>\n    <tr>\n      <th>mean</th>\n      <td>1971.267808</td>\n      <td>10516.828082</td>\n      <td>1162.626712</td>\n      <td>346.992466</td>\n      <td>1.565068</td>\n      <td>2.866438</td>\n      <td>6.517808</td>\n    </tr>\n    <tr>\n      <th>std</th>\n      <td>30.202904</td>\n      <td>9981.264932</td>\n      <td>386.587738</td>\n      <td>436.528436</td>\n      <td>0.550916</td>\n      <td>0.815778</td>\n      <td>1.625393</td>\n    </tr>\n    <tr>\n      <th>min</th>\n      <td>1872.000000</td>\n      <td>1300.000000</td>\n      <td>334.000000</td>\n      <td>0.000000</td>\n      <td>0.000000</td>\n      <td>0.000000</td>\n      <td>2.000000</td>\n    </tr>\n    <tr>\n      <th>25%</th>\n      <td>1954.000000</td>\n      <td>7553.500000</td>\n      <td>882.000000</td>\n      <td>0.000000</td>\n      <td>1.000000</td>\n      <td>2.000000</td>\n      <td>5.000000</td>\n    </tr>\n    <tr>\n      <th>50%</th>\n      <td>1973.000000</td>\n      <td>9478.500000</td>\n      <td>1087.000000</td>\n      <td>0.000000</td>\n      <td>2.000000</td>\n      <td>3.000000</td>\n      <td>6.000000</td>\n    </tr>\n    <tr>\n      <th>75%</th>\n      <td>2000.000000</td>\n      <td>11601.500000</td>\n      <td>1391.250000</td>\n      <td>728.000000</td>\n      <td>2.000000</td>\n      <td>3.000000</td>\n      <td>7.000000</td>\n    </tr>\n    <tr>\n      <th>max</th>\n      <td>2010.000000</td>\n      <td>215245.000000</td>\n      <td>4692.000000</td>\n      <td>2065.000000</td>\n      <td>3.000000</td>\n      <td>8.000000</td>\n      <td>14.000000</td>\n    </tr>\n  </tbody>\n</table>\n</div>"
          },
          "metadata": {}
        }
      ]
    },
    {
      "metadata": {
        "_cell_guid": "6c3fe142-93c2-41d4-b64c-9639a0bf412a",
        "_uuid": "6e264435753fc2987da5f9f9724e44b72604bc90",
        "trusted": true
      },
      "cell_type": "code",
      "source": "y = data.SalePrice\nX = data[columns_of_interest]\n\nfrom sklearn.tree import DecisionTreeRegressor\n\niowa_model = DecisionTreeRegressor()\n\niowa_model.fit(X,y)\n\nprint(\"Making predictions for the following 5 houses:\")\nprint(X.head())\n\nprint(\"The predictions are\")\nprint(iowa_model.predict(X.head()))",
      "execution_count": 10,
      "outputs": [
        {
          "output_type": "stream",
          "text": "Making predictions for the following 5 houses:\n   YearBuilt  LotArea  1stFlrSF  2ndFlrSF  FullBath  BedroomAbvGr  \\\n0       2003     8450       856       854         2             3   \n1       1976     9600      1262         0         2             3   \n2       2001    11250       920       866         2             3   \n3       1915     9550       961       756         1             3   \n4       2000    14260      1145      1053         2             4   \n\n   TotRmsAbvGrd  \n0             8  \n1             6  \n2             6  \n3             7  \n4             9  \nThe predictions are\n[208500. 181500. 223500. 140000. 250000.]\n",
          "name": "stdout"
        }
      ]
    },
    {
      "metadata": {
        "_cell_guid": "dccd3e35-885e-4254-927c-34bf6ca61189",
        "_uuid": "c0b3d5f4981d9139d9c2af794b34e940a33dcf0b",
        "trusted": true
      },
      "cell_type": "code",
      "source": "from sklearn.metrics import mean_absolute_error\n\npredicted_home_prices = iowa_model.predict(X)\n#print(predicted_home_prices)\n\nmean_absolute_error(y, predicted_home_prices)",
      "execution_count": 13,
      "outputs": [
        {
          "output_type": "execute_result",
          "execution_count": 13,
          "data": {
            "text/plain": "62.35433789954339"
          },
          "metadata": {}
        }
      ]
    },
    {
      "metadata": {
        "trusted": true,
        "_uuid": "09e795bb0016460e4f29a82ec197e95c30743caa"
      },
      "cell_type": "code",
      "source": "from sklearn.model_selection import train_test_split\n\ntrain_X, val_X, train_y, val_y = train_test_split(X, y,random_state = 0)\n\niowa_model = DecisionTreeRegressor()\n\niowa_model.fit(train_X, train_y)\n\nval_predictions = iowa_model.predict(val_X)\n\nprint(mean_absolute_error(val_y, val_predictions))\n\n\n\n",
      "execution_count": 16,
      "outputs": [
        {
          "output_type": "stream",
          "text": "33048.17808219178\n",
          "name": "stdout"
        }
      ]
    }
  ],
  "metadata": {
    "language_info": {
      "name": "python",
      "version": "3.6.4",
      "mimetype": "text/x-python",
      "codemirror_mode": {
        "name": "ipython",
        "version": 3
      },
      "pygments_lexer": "ipython3",
      "nbconvert_exporter": "python",
      "file_extension": ".py"
    },
    "kernelspec": {
      "display_name": "Python 3",
      "language": "python",
      "name": "python3"
    }
  },
  "nbformat": 4,
  "nbformat_minor": 1
}